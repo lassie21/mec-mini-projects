{
 "cells": [
  {
   "cell_type": "code",
   "execution_count": 5,
   "id": "3ec52477",
   "metadata": {},
   "outputs": [],
   "source": [
    "import pandas as pd\n",
    "import matplotlib.pyplot as plt\n",
    "import numpy as np\n",
    "from sklearn.preprocessing import MinMaxScaler\n",
    "from sklearn.model_selection import train_test_split\n",
    "\n",
    "%matplotlib inline\n"
   ]
  },
  {
   "cell_type": "code",
   "execution_count": 3,
   "id": "1bbc21ed",
   "metadata": {},
   "outputs": [],
   "source": [
    "\n",
    "#Save final cleaned X and Y data sets\n",
    "X_full=pd.read_csv('X_seq.csv',low_memory=False)\n",
    "y=pd.read_csv('Y_seq.csv',low_memory=False)"
   ]
  },
  {
   "cell_type": "markdown",
   "id": "70ec0b61",
   "metadata": {},
   "source": [
    "While we would like to apply multivariate models first and foremost for simplicity, some papers suggest multiple univariate models could have advantages. For example, multivariate models showed increase in processing time and performance impact due to correlation within outputs while not having a significant advantage in performance over univariate models.\n",
    "\n",
    "https://www.researchgate.net/publication/357876220_Machine_Learning_for_Multi-Output_Regression_When_should_a_holistic_multivariate_approach_be_preferred_over_separate_univariate_ones\n",
    "\n",
    "Another paper worth exploring outlines an evolutiuonary prototype selection for multi-output regression (EPS-MOR). This will obtain reduced size training sets while maximizing prediction quality. \n",
    "\n",
    "https://www.sciencedirect.com/science/article/pii/S0925231219307611\n",
    "\n",
    "Their code was unable to be replicated but we performed prototype selection on our training data and compared using mean error.\n"
   ]
  },
  {
   "cell_type": "code",
   "execution_count": 39,
   "id": "c3d18956",
   "metadata": {},
   "outputs": [],
   "source": [
    "#read final cleaned X and Y data sets\n",
    "X_full=pd.read_csv('X_seq.csv',low_memory=False)\n",
    "y=pd.read_csv('Y_seq.csv',low_memory=False)"
   ]
  },
  {
   "cell_type": "code",
   "execution_count": 40,
   "id": "ba8c1521",
   "metadata": {},
   "outputs": [],
   "source": [
    "cols_to_drop = [x for x in X_full.columns if 'Unnamed' in x]\n",
    "X_full = X_full.drop(cols_to_drop, axis=1)\n",
    "cols_to_drop = [x for x in y.columns if 'Unnamed' in x]\n",
    "y = y.drop(cols_to_drop, axis=1)"
   ]
  },
  {
   "cell_type": "code",
   "execution_count": 41,
   "id": "2bb09e98",
   "metadata": {},
   "outputs": [],
   "source": [
    "x_train, x_test, y_train, y_test = train_test_split(X_full, y, random_state=0)"
   ]
  },
  {
   "cell_type": "code",
   "execution_count": 79,
   "id": "39e8767a",
   "metadata": {},
   "outputs": [],
   "source": [
    "#randomly select dataset by M number of labels\n",
    "def rand_prototypes(M, train_data, train_labels):\n",
    "    np.random.seed(10)\n",
    "    indices = np.random.choice( len(train_labels) , M, replace=False)\n",
    "    return train_data.iloc[:,indices], indices"
   ]
  },
  {
   "cell_type": "code",
   "execution_count": 70,
   "id": "490ba874",
   "metadata": {},
   "outputs": [],
   "source": [
    "from sklearn.datasets import make_regression\n",
    "from sklearn.neighbors import KNeighborsRegressor\n",
    "from sklearn.metrics import mean_squared_error\n",
    "from sklearn.metrics import classification_report"
   ]
  },
  {
   "cell_type": "code",
   "execution_count": 66,
   "id": "81babbf1",
   "metadata": {},
   "outputs": [
    {
     "name": "stdout",
     "output_type": "stream",
     "text": [
      "[1.79461069e-04 7.20366732e-02 8.96051157e-01]\n"
     ]
    }
   ],
   "source": [
    "# define model\n",
    "model = KNeighborsRegressor()\n",
    "# fit model\n",
    "model.fit(x_train, y_train)\n",
    "y_pred = model.predict(x_test)\n",
    "# summarize prediction\n",
    "print(y_pred[0])"
   ]
  },
  {
   "cell_type": "code",
   "execution_count": 69,
   "id": "d6ff1b1d",
   "metadata": {},
   "outputs": [
    {
     "name": "stdout",
     "output_type": "stream",
     "text": [
      "(1460, 3)\n",
      "(1460, 3)\n"
     ]
    }
   ],
   "source": [
    "print(np.shape(y_test))\n",
    "print(np.shape(y_pred))"
   ]
  },
  {
   "cell_type": "code",
   "execution_count": 72,
   "id": "2a25aebe",
   "metadata": {},
   "outputs": [
    {
     "name": "stdout",
     "output_type": "stream",
     "text": [
      "MSE: 0.0022796685474204027\n",
      "0.7627693141391253\n"
     ]
    }
   ],
   "source": [
    "print('MSE: {}'.format(mean_squared_error(y_test, y_pred)))\n",
    "print(model.score(x_test, y_test))"
   ]
  },
  {
   "cell_type": "code",
   "execution_count": 83,
   "id": "e0d04571",
   "metadata": {},
   "outputs": [],
   "source": [
    "#prototype selection using 50 random features\n",
    "x_proto, idx=rand_prototypes(100, x_train, x_train.columns)"
   ]
  },
  {
   "cell_type": "code",
   "execution_count": 84,
   "id": "a05368ad",
   "metadata": {},
   "outputs": [
    {
     "name": "stdout",
     "output_type": "stream",
     "text": [
      "[1.64103240e-04 7.20366732e-02 8.91222798e-01]\n"
     ]
    }
   ],
   "source": [
    "#compare KNN\n",
    "# define model\n",
    "modelp = KNeighborsRegressor()\n",
    "# fit model\n",
    "modelp.fit(x_proto, y_train)\n",
    "y_pred = modelp.predict(x_test.iloc[:,idx])\n",
    "# summarize prediction\n",
    "print(y_pred[0])"
   ]
  },
  {
   "cell_type": "code",
   "execution_count": 85,
   "id": "22bf9764",
   "metadata": {},
   "outputs": [
    {
     "name": "stdout",
     "output_type": "stream",
     "text": [
      "MSE: 0.00218309683560113\n",
      "0.7693902916101947\n"
     ]
    }
   ],
   "source": [
    "print('MSE: {}'.format(mean_squared_error(y_test, y_pred)))\n",
    "print(modelp.score(x_test.iloc[:,idx], y_test))"
   ]
  },
  {
   "cell_type": "markdown",
   "id": "cbf2fb2c",
   "metadata": {},
   "source": [
    "Note that depending on the seed, the random prototype selection did not always help the model performance and smarter prototype selection should be explored. \n"
   ]
  },
  {
   "cell_type": "code",
   "execution_count": null,
   "id": "03e11fb5",
   "metadata": {},
   "outputs": [],
   "source": []
  }
 ],
 "metadata": {
  "kernelspec": {
   "display_name": "Python 3 (ipykernel)",
   "language": "python",
   "name": "python3"
  },
  "language_info": {
   "codemirror_mode": {
    "name": "ipython",
    "version": 3
   },
   "file_extension": ".py",
   "mimetype": "text/x-python",
   "name": "python",
   "nbconvert_exporter": "python",
   "pygments_lexer": "ipython3",
   "version": "3.9.7"
  }
 },
 "nbformat": 4,
 "nbformat_minor": 5
}
