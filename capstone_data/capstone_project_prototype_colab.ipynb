{
  "cells": [
    {
      "cell_type": "code",
      "execution_count": 1,
      "id": "3ec52477",
      "metadata": {
        "id": "3ec52477"
      },
      "outputs": [],
      "source": [
        "import pandas as pd\n",
        "import matplotlib.pyplot as plt\n",
        "import numpy as np\n",
        "from sklearn.preprocessing import MinMaxScaler\n",
        "from sklearn.model_selection import train_test_split\n",
        "\n",
        "%matplotlib inline\n"
      ]
    },
    {
      "cell_type": "code",
      "execution_count": 2,
      "id": "7YRMrgLPBUIJ",
      "metadata": {
        "colab": {
          "base_uri": "https://localhost:8080/",
          "height": 73,
          "resources": {
            "http://localhost:8080/nbextensions/google.colab/files.js": {
              "data": "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",
              "headers": [
                [
                  "content-type",
                  "application/javascript"
                ]
              ],
              "ok": true,
              "status": 200,
              "status_text": ""
            }
          }
        },
        "id": "7YRMrgLPBUIJ",
        "outputId": "97f315b9-8c06-42e8-ae2b-05944223ff2f"
      },
      "outputs": [
        {
          "output_type": "display_data",
          "data": {
            "text/plain": [
              "<IPython.core.display.HTML object>"
            ],
            "text/html": [
              "\n",
              "     <input type=\"file\" id=\"files-fee281f1-4e7b-4b07-b5be-91b48d8c98b9\" name=\"files[]\" multiple disabled\n",
              "        style=\"border:none\" />\n",
              "     <output id=\"result-fee281f1-4e7b-4b07-b5be-91b48d8c98b9\">\n",
              "      Upload widget is only available when the cell has been executed in the\n",
              "      current browser session. Please rerun this cell to enable.\n",
              "      </output>\n",
              "      <script src=\"/nbextensions/google.colab/files.js\"></script> "
            ]
          },
          "metadata": {}
        },
        {
          "output_type": "stream",
          "name": "stdout",
          "text": [
            "Saving X_seq.csv to X_seq.csv\n"
          ]
        }
      ],
      "source": [
        "from google.colab import files\n",
        "\n",
        "uploaded = files.upload()"
      ]
    },
    {
      "cell_type": "code",
      "execution_count": 3,
      "id": "yJ5e9GMlB501",
      "metadata": {
        "colab": {
          "base_uri": "https://localhost:8080/",
          "height": 73,
          "resources": {
            "http://localhost:8080/nbextensions/google.colab/files.js": {
              "data": "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",
              "headers": [
                [
                  "content-type",
                  "application/javascript"
                ]
              ],
              "ok": true,
              "status": 200,
              "status_text": ""
            }
          }
        },
        "id": "yJ5e9GMlB501",
        "outputId": "dc2b6f42-c7ad-43b0-d204-682e09791d48"
      },
      "outputs": [
        {
          "output_type": "display_data",
          "data": {
            "text/plain": [
              "<IPython.core.display.HTML object>"
            ],
            "text/html": [
              "\n",
              "     <input type=\"file\" id=\"files-2772649c-1dae-4707-9c27-66e946d1c480\" name=\"files[]\" multiple disabled\n",
              "        style=\"border:none\" />\n",
              "     <output id=\"result-2772649c-1dae-4707-9c27-66e946d1c480\">\n",
              "      Upload widget is only available when the cell has been executed in the\n",
              "      current browser session. Please rerun this cell to enable.\n",
              "      </output>\n",
              "      <script src=\"/nbextensions/google.colab/files.js\"></script> "
            ]
          },
          "metadata": {}
        },
        {
          "output_type": "stream",
          "name": "stdout",
          "text": [
            "Saving Y_seq.csv to Y_seq.csv\n"
          ]
        }
      ],
      "source": [
        "uploaded2 = files.upload()"
      ]
    },
    {
      "cell_type": "code",
      "execution_count": 4,
      "id": "c3d18956",
      "metadata": {
        "id": "c3d18956"
      },
      "outputs": [],
      "source": [
        "#read final cleaned X and Y data sets\n",
        "X_full=pd.read_csv('X_seq.csv',low_memory=False)\n",
        "y=pd.read_csv('Y_seq.csv',low_memory=False)"
      ]
    },
    {
      "cell_type": "code",
      "execution_count": 5,
      "id": "ba8c1521",
      "metadata": {
        "id": "ba8c1521"
      },
      "outputs": [],
      "source": [
        "cols_to_drop = [x for x in X_full.columns if 'Unnamed' in x]\n",
        "X_full = X_full.drop(cols_to_drop, axis=1)\n",
        "cols_to_drop = [x for x in y.columns if 'Unnamed' in x]\n",
        "y = y.drop(cols_to_drop, axis=1)"
      ]
    },
    {
      "cell_type": "markdown",
      "id": "3b0dad49",
      "metadata": {
        "id": "3b0dad49"
      },
      "source": [
        "## **Feature Exploration**"
      ]
    },
    {
      "cell_type": "code",
      "execution_count": 6,
      "id": "2bb09e98",
      "metadata": {
        "id": "2bb09e98"
      },
      "outputs": [],
      "source": [
        "x_train, x_test, y_train, y_test = train_test_split(X_full, y, random_state=0)"
      ]
    },
    {
      "cell_type": "code",
      "execution_count": 7,
      "id": "39e8767a",
      "metadata": {
        "id": "39e8767a"
      },
      "outputs": [],
      "source": [
        "#randomly select dataset by M number of labels\n",
        "def rand_prototypes(M, train_data, train_labels):\n",
        "    np.random.seed(10)\n",
        "    indices = np.random.choice( len(train_labels) , M, replace=False)\n",
        "    return train_data.iloc[:,indices], indices"
      ]
    },
    {
      "cell_type": "code",
      "execution_count": 8,
      "id": "490ba874",
      "metadata": {
        "id": "490ba874"
      },
      "outputs": [],
      "source": [
        "from sklearn.datasets import make_regression\n",
        "from sklearn.neighbors import KNeighborsRegressor\n",
        "from sklearn.metrics import mean_squared_error\n",
        "from sklearn.metrics import classification_report, r2_score\n",
        "from sklearn.ensemble import RandomForestRegressor\n",
        "from sklearn.tree import DecisionTreeRegressor\n",
        "from sklearn.model_selection import GridSearchCV"
      ]
    },
    {
      "cell_type": "markdown",
      "id": "5fbf14e8",
      "metadata": {
        "id": "5fbf14e8"
      },
      "source": [
        "Random Forest Regressor"
      ]
    },
    {
      "cell_type": "code",
      "execution_count": 10,
      "id": "f4ca2e86",
      "metadata": {
        "colab": {
          "base_uri": "https://localhost:8080/"
        },
        "id": "f4ca2e86",
        "outputId": "6b001c93-6118-4daa-d13e-78f5c40ec745"
      },
      "outputs": [
        {
          "output_type": "stream",
          "name": "stdout",
          "text": [
            "[7.85809831e-04 7.20235756e-02 8.80433098e-01]\n"
          ]
        }
      ],
      "source": [
        "rfr=RandomForestRegressor()\n",
        "# fit model\n",
        "rfr.fit(x_train, y_train)\n",
        "y_pred = rfr.predict(x_test)\n",
        "# summarize prediction\n",
        "print(y_pred[0])"
      ]
    },
    {
      "cell_type": "code",
      "execution_count": 11,
      "id": "cbc5e193",
      "metadata": {
        "colab": {
          "base_uri": "https://localhost:8080/"
        },
        "id": "cbc5e193",
        "outputId": "e937f9d4-0607-4396-da11-7389f22f8246",
        "scrolled": true
      },
      "outputs": [
        {
          "output_type": "stream",
          "name": "stdout",
          "text": [
            "MSE: 0.0007345076413148355\n",
            "0.8932484318898141\n"
          ]
        }
      ],
      "source": [
        "print('MSE: {}'.format(mean_squared_error(y_test, y_pred)))\n",
        "print(rfr.score(x_test, y_test))"
      ]
    },
    {
      "cell_type": "code",
      "execution_count": 12,
      "id": "39179b5e",
      "metadata": {
        "id": "39179b5e"
      },
      "outputs": [],
      "source": [
        "feats = {} # a dict to hold feature_name: feature_importance\n",
        "for feature, importance in zip(x_train.columns, rfr.feature_importances_):\n",
        "    feats[feature] = importance \n",
        "feat_filter={}\n",
        "for (key, value) in feats.items():\n",
        "    if value > 6.0253533696158045e-06: #removed anything with lower importance than a specific run date\n",
        "        feat_filter[key]=value\n",
        "feat_sort = sorted(feat_filter.items(), key=lambda x: x[1], reverse=True)\n"
      ]
    },
    {
      "cell_type": "code",
      "execution_count": 13,
      "id": "cce305b9",
      "metadata": {
        "colab": {
          "base_uri": "https://localhost:8080/"
        },
        "id": "cce305b9",
        "outputId": "1f76d275-388d-4bdf-9912-029a2d8ce3f1"
      },
      "outputs": [
        {
          "output_type": "stream",
          "name": "stdout",
          "text": [
            "5 most important features ranked\n",
            "Avg Mt Align Percent Identical: 0.45071059216751236\n",
            "Num Align Hqmt Unthreaded At Start Or End Of Bright Cycle: 0.18612598815013784\n",
            "Num Qc Mt: 0.10823920473288387\n",
            "Num Align High Acc Mt: 0.09163025411400813\n",
            "Mode Mt Base Call Read Length Qc Mt: 0.05342882933228649\n"
          ]
        }
      ],
      "source": [
        "print('5 most important features ranked')\n",
        "for i in range(5): \n",
        "    print('{}: {}'.format(feat_sort[i][0],feat_sort[i][1]))\n"
      ]
    },
    {
      "cell_type": "code",
      "execution_count": null,
      "id": "edcc79bf",
      "metadata": {
        "id": "edcc79bf",
        "outputId": "7f720770-c04f-4221-8a5f-6a32a5120469"
      },
      "outputs": [
        {
          "data": {
            "text/plain": [
              "Text(0.5, 1.0, 'Relationship between feature and target: accuracy')"
            ]
          },
          "execution_count": 44,
          "metadata": {},
          "output_type": "execute_result"
        },
        {
          "data": {
            "image/png": "[encoded data removed]",
            "text/plain": [
              "<Figure size 432x288 with 1 Axes>"
            ]
          },
          "metadata": {
            "needs_background": "light"
          },
          "output_type": "display_data"
        }
      ],
      "source": [
        "plt.scatter(X_full['Avg Mt Align Percent Identical'], y['Avg Mt Align Edit Percent Identical'])\n",
        "plt.xlabel(\"high ranked accuracy feature 1\")\n",
        "plt.ylabel(\"Avg Mt Align Edit Percent Identical\")\n",
        "plt.title(\"Relationship between feature and target: accuracy\")"
      ]
    },
    {
      "cell_type": "code",
      "execution_count": null,
      "id": "df94d4d4",
      "metadata": {
        "id": "df94d4d4",
        "outputId": "88b8edf8-3279-4d21-d0bf-d6077c19525c"
      },
      "outputs": [
        {
          "data": {
            "text/plain": [
              "Text(0.5, 1.0, 'Relationship between feature and target: hqmt')"
            ]
          },
          "execution_count": 41,
          "metadata": {},
          "output_type": "execute_result"
        },
        {
          "data": {
            "image/png": "[encoded data removed]",
            "text/plain": [
              "<Figure size 432x288 with 1 Axes>"
            ]
          },
          "metadata": {
            "needs_background": "light"
          },
          "output_type": "display_data"
        }
      ],
      "source": [
        "plt.scatter(X_full['Num Align Hqmt Unthreaded At Start Or End Of Bright Cycle'], y['Num Align Hqmt'])\n",
        "plt.xlabel(\"high ranked mt feature 1\")\n",
        "plt.ylabel(\"Num Align Hqmt\")\n",
        "plt.title(\"Relationship between feature and target: hqmt\")"
      ]
    },
    {
      "cell_type": "code",
      "execution_count": null,
      "id": "6d6fcd5b",
      "metadata": {
        "scrolled": true,
        "id": "6d6fcd5b",
        "outputId": "e0bf7bd6-6218-4d1d-9264-357a2716048c"
      },
      "outputs": [
        {
          "data": {
            "text/plain": [
              "Text(0.5, 1.0, 'Relationship between feature and target: hqmt')"
            ]
          },
          "execution_count": 42,
          "metadata": {},
          "output_type": "execute_result"
        },
        {
          "data": {
            "image/png": "[encoded data removed]",
            "text/plain": [
              "<Figure size 432x288 with 1 Axes>"
            ]
          },
          "metadata": {
            "needs_background": "light"
          },
          "output_type": "display_data"
        }
      ],
      "source": [
        "plt.scatter(X_full['Num Qc Mt'], y['Num Align Hqmt'])\n",
        "plt.xlabel(\"high ranked mt feature 2\")\n",
        "plt.ylabel(\"Num Align Hqmt\")\n",
        "plt.title(\"Relationship between feature and target: hqmt\")"
      ]
    },
    {
      "cell_type": "markdown",
      "id": "20f020df",
      "metadata": {
        "id": "20f020df"
      },
      "source": [
        "From the plots relationships and the feature imporances, it was decided that the top two features would be removed due to high correlation with the target, which would make it difficult to discover new relationships hidden in the features. Also we filtered out low performing features. Anything with less feature importance score than a one hot encoded feature for run time was removed. "
      ]
    },
    {
      "cell_type": "code",
      "execution_count": 14,
      "id": "075fafc9",
      "metadata": {
        "colab": {
          "base_uri": "https://localhost:8080/",
          "height": 438
        },
        "id": "075fafc9",
        "outputId": "77e3e22e-82c8-4149-a98a-88a2b84a87fe"
      },
      "outputs": [
        {
          "output_type": "execute_result",
          "data": {
            "text/plain": [
              "   Num Qc Mt  Num Align High Acc Mt  Mode Mt Base Call Read Length Qc Mt  \\\n",
              "0   0.156277               0.165678                             0.366803   \n",
              "1   0.231393               0.250149                             0.366803   \n",
              "2   0.198895               0.205300                             0.362705   \n",
              "3   0.250057               0.262118                             0.370902   \n",
              "4   0.077286               0.106962                             0.229508   \n",
              "\n",
              "   Avg Num Align Hqmt Per Good Cell  \\\n",
              "0                          0.239986   \n",
              "1                          0.251632   \n",
              "2                          0.239878   \n",
              "3                          0.256029   \n",
              "4                          0.105003   \n",
              "\n",
              "   Std Mt Base Call Read Length Unthreaded At Start Or End Of Bright Cycle  \\\n",
              "0                                           0.342082                         \n",
              "1                                           0.342082                         \n",
              "2                                           0.342082                         \n",
              "3                                           0.342082                         \n",
              "4                                           0.338184                         \n",
              "\n",
              "   Avg Mt Base Call Read Length Unthreaded At Start Or End Of Bright Cycle  \\\n",
              "0                                           0.497151                         \n",
              "1                                           0.497151                         \n",
              "2                                           0.497151                         \n",
              "3                                           0.497151                         \n",
              "4                                           0.458741                         \n",
              "\n",
              "   Mode Mt Base Call Read Length Unthreaded At Start Or End Of Bright Cycle  \\\n",
              "0                                           0.486503                          \n",
              "1                                           0.486503                          \n",
              "2                                           0.486503                          \n",
              "3                                           0.486503                          \n",
              "4                                           0.580311                          \n",
              "\n",
              "   Percentile90 Mt Base Call Read Length  \\\n",
              "0                               0.300079   \n",
              "1                               0.298496   \n",
              "2                               0.297704   \n",
              "3                               0.296912   \n",
              "4                               0.182106   \n",
              "\n",
              "   Percentile75 Mt Base Call Read Length  Num Qc Mt End Adapter Found  ...  \\\n",
              "0                               0.372917                     0.112826  ...   \n",
              "1                               0.368750                     0.153321  ...   \n",
              "2                               0.366667                     0.124264  ...   \n",
              "3                               0.365625                     0.146954  ...   \n",
              "4                               0.216667                     0.001551  ...   \n",
              "\n",
              "   Run Type_ACAP ONLY  Labcodes Branch Name_6.0.3/seattle  \\\n",
              "0                   1                                   1   \n",
              "1                   1                                   1   \n",
              "2                   1                                   1   \n",
              "3                   1                                   0   \n",
              "4                   0                                   0   \n",
              "\n",
              "   Waveform Params File_/home/genia/projects/labcodes_branch/NSParameters/labcodes/waveform_params_2t_vs_90-375-10p66_200us_3spp_-235mv-10mv-36mv-occal.json  \\\n",
              "0                                                  1                                                                                                           \n",
              "1                                                  1                                                                                                           \n",
              "2                                                  1                                                                                                           \n",
              "3                                                  1                                                                                                           \n",
              "4                                                  0                                                                                                           \n",
              "\n",
              "   Run Group_TI-RED-HTP  \\\n",
              "0                     0   \n",
              "1                     0   \n",
              "2                     0   \n",
              "3                     0   \n",
              "4                     0   \n",
              "\n",
              "   Labcodes Branch SHA_7e3030dbff29dc24fa33eedfd4d466dda85d566a  \\\n",
              "0                                                  0              \n",
              "1                                                  0              \n",
              "2                                                  0              \n",
              "3                                                  0              \n",
              "4                                                  0              \n",
              "\n",
              "   SBX Pore Name_P-0445  Token_210428_000  Labcodes Version_5.3.6  \\\n",
              "0                     0                 0                       0   \n",
              "1                     0                 0                       0   \n",
              "2                     0                 0                       0   \n",
              "3                     0                 0                       0   \n",
              "4                     1                 0                       0   \n",
              "\n",
              "   SBX Pore Stock Name_200618_01  \\\n",
              "0                              1   \n",
              "1                              1   \n",
              "2                              1   \n",
              "3                              1   \n",
              "4                              0   \n",
              "\n",
              "   General Params File_/home/genia/projects/labcodes_branch/NSParameters/labcodes/general_params_66XP_21-10uls_20C-10m_45-0p013uls_clean-5p3p6.json  \n",
              "0                                                  1                                                                                                 \n",
              "1                                                  1                                                                                                 \n",
              "2                                                  1                                                                                                 \n",
              "3                                                  1                                                                                                 \n",
              "4                                                  0                                                                                                 \n",
              "\n",
              "[5 rows x 206 columns]"
            ],
            "text/html": [
              "\n",
              "  <div id=\"df-1eb6d7e7-b5c7-405f-a199-a5f15f6b8fc9\">\n",
              "    <div class=\"colab-df-container\">\n",
              "      <div>\n",
              "<style scoped>\n",
              "    .dataframe tbody tr th:only-of-type {\n",
              "        vertical-align: middle;\n",
              "    }\n",
              "\n",
              "    .dataframe tbody tr th {\n",
              "        vertical-align: top;\n",
              "    }\n",
              "\n",
              "    .dataframe thead th {\n",
              "        text-align: right;\n",
              "    }\n",
              "</style>\n",
              "<table border=\"1\" class=\"dataframe\">\n",
              "  <thead>\n",
              "    <tr style=\"text-align: right;\">\n",
              "      <th></th>\n",
              "      <th>Num Qc Mt</th>\n",
              "      <th>Num Align High Acc Mt</th>\n",
              "      <th>Mode Mt Base Call Read Length Qc Mt</th>\n",
              "      <th>Avg Num Align Hqmt Per Good Cell</th>\n",
              "      <th>Std Mt Base Call Read Length Unthreaded At Start Or End Of Bright Cycle</th>\n",
              "      <th>Avg Mt Base Call Read Length Unthreaded At Start Or End Of Bright Cycle</th>\n",
              "      <th>Mode Mt Base Call Read Length Unthreaded At Start Or End Of Bright Cycle</th>\n",
              "      <th>Percentile90 Mt Base Call Read Length</th>\n",
              "      <th>Percentile75 Mt Base Call Read Length</th>\n",
              "      <th>Num Qc Mt End Adapter Found</th>\n",
              "      <th>...</th>\n",
              "      <th>Run Type_ACAP ONLY</th>\n",
              "      <th>Labcodes Branch Name_6.0.3/seattle</th>\n",
              "      <th>Waveform Params File_/home/genia/projects/labcodes_branch/NSParameters/labcodes/waveform_params_2t_vs_90-375-10p66_200us_3spp_-235mv-10mv-36mv-occal.json</th>\n",
              "      <th>Run Group_TI-RED-HTP</th>\n",
              "      <th>Labcodes Branch SHA_7e3030dbff29dc24fa33eedfd4d466dda85d566a</th>\n",
              "      <th>SBX Pore Name_P-0445</th>\n",
              "      <th>Token_210428_000</th>\n",
              "      <th>Labcodes Version_5.3.6</th>\n",
              "      <th>SBX Pore Stock Name_200618_01</th>\n",
              "      <th>General Params File_/home/genia/projects/labcodes_branch/NSParameters/labcodes/general_params_66XP_21-10uls_20C-10m_45-0p013uls_clean-5p3p6.json</th>\n",
              "    </tr>\n",
              "  </thead>\n",
              "  <tbody>\n",
              "    <tr>\n",
              "      <th>0</th>\n",
              "      <td>0.156277</td>\n",
              "      <td>0.165678</td>\n",
              "      <td>0.366803</td>\n",
              "      <td>0.239986</td>\n",
              "      <td>0.342082</td>\n",
              "      <td>0.497151</td>\n",
              "      <td>0.486503</td>\n",
              "      <td>0.300079</td>\n",
              "      <td>0.372917</td>\n",
              "      <td>0.112826</td>\n",
              "      <td>...</td>\n",
              "      <td>1</td>\n",
              "      <td>1</td>\n",
              "      <td>1</td>\n",
              "      <td>0</td>\n",
              "      <td>0</td>\n",
              "      <td>0</td>\n",
              "      <td>0</td>\n",
              "      <td>0</td>\n",
              "      <td>1</td>\n",
              "      <td>1</td>\n",
              "    </tr>\n",
              "    <tr>\n",
              "      <th>1</th>\n",
              "      <td>0.231393</td>\n",
              "      <td>0.250149</td>\n",
              "      <td>0.366803</td>\n",
              "      <td>0.251632</td>\n",
              "      <td>0.342082</td>\n",
              "      <td>0.497151</td>\n",
              "      <td>0.486503</td>\n",
              "      <td>0.298496</td>\n",
              "      <td>0.368750</td>\n",
              "      <td>0.153321</td>\n",
              "      <td>...</td>\n",
              "      <td>1</td>\n",
              "      <td>1</td>\n",
              "      <td>1</td>\n",
              "      <td>0</td>\n",
              "      <td>0</td>\n",
              "      <td>0</td>\n",
              "      <td>0</td>\n",
              "      <td>0</td>\n",
              "      <td>1</td>\n",
              "      <td>1</td>\n",
              "    </tr>\n",
              "    <tr>\n",
              "      <th>2</th>\n",
              "      <td>0.198895</td>\n",
              "      <td>0.205300</td>\n",
              "      <td>0.362705</td>\n",
              "      <td>0.239878</td>\n",
              "      <td>0.342082</td>\n",
              "      <td>0.497151</td>\n",
              "      <td>0.486503</td>\n",
              "      <td>0.297704</td>\n",
              "      <td>0.366667</td>\n",
              "      <td>0.124264</td>\n",
              "      <td>...</td>\n",
              "      <td>1</td>\n",
              "      <td>1</td>\n",
              "      <td>1</td>\n",
              "      <td>0</td>\n",
              "      <td>0</td>\n",
              "      <td>0</td>\n",
              "      <td>0</td>\n",
              "      <td>0</td>\n",
              "      <td>1</td>\n",
              "      <td>1</td>\n",
              "    </tr>\n",
              "    <tr>\n",
              "      <th>3</th>\n",
              "      <td>0.250057</td>\n",
              "      <td>0.262118</td>\n",
              "      <td>0.370902</td>\n",
              "      <td>0.256029</td>\n",
              "      <td>0.342082</td>\n",
              "      <td>0.497151</td>\n",
              "      <td>0.486503</td>\n",
              "      <td>0.296912</td>\n",
              "      <td>0.365625</td>\n",
              "      <td>0.146954</td>\n",
              "      <td>...</td>\n",
              "      <td>1</td>\n",
              "      <td>0</td>\n",
              "      <td>1</td>\n",
              "      <td>0</td>\n",
              "      <td>0</td>\n",
              "      <td>0</td>\n",
              "      <td>0</td>\n",
              "      <td>0</td>\n",
              "      <td>1</td>\n",
              "      <td>1</td>\n",
              "    </tr>\n",
              "    <tr>\n",
              "      <th>4</th>\n",
              "      <td>0.077286</td>\n",
              "      <td>0.106962</td>\n",
              "      <td>0.229508</td>\n",
              "      <td>0.105003</td>\n",
              "      <td>0.338184</td>\n",
              "      <td>0.458741</td>\n",
              "      <td>0.580311</td>\n",
              "      <td>0.182106</td>\n",
              "      <td>0.216667</td>\n",
              "      <td>0.001551</td>\n",
              "      <td>...</td>\n",
              "      <td>0</td>\n",
              "      <td>0</td>\n",
              "      <td>0</td>\n",
              "      <td>0</td>\n",
              "      <td>0</td>\n",
              "      <td>1</td>\n",
              "      <td>0</td>\n",
              "      <td>0</td>\n",
              "      <td>0</td>\n",
              "      <td>0</td>\n",
              "    </tr>\n",
              "  </tbody>\n",
              "</table>\n",
              "<p>5 rows × 206 columns</p>\n",
              "</div>\n",
              "      <button class=\"colab-df-convert\" onclick=\"convertToInteractive('df-1eb6d7e7-b5c7-405f-a199-a5f15f6b8fc9')\"\n",
              "              title=\"Convert this dataframe to an interactive table.\"\n",
              "              style=\"display:none;\">\n",
              "        \n",
              "  <svg xmlns=\"http://www.w3.org/2000/svg\" height=\"24px\"viewBox=\"0 0 24 24\"\n",
              "       width=\"24px\">\n",
              "    <path d=\"M0 0h24v24H0V0z\" fill=\"none\"/>\n",
              "    <path d=\"M18.56 5.44l.94 2.06.94-2.06 2.06-.94-2.06-.94-.94-2.06-.94 2.06-2.06.94zm-11 1L8.5 8.5l.94-2.06 2.06-.94-2.06-.94L8.5 2.5l-.94 2.06-2.06.94zm10 10l.94 2.06.94-2.06 2.06-.94-2.06-.94-.94-2.06-.94 2.06-2.06.94z\"/><path d=\"M17.41 7.96l-1.37-1.37c-.4-.4-.92-.59-1.43-.59-.52 0-1.04.2-1.43.59L10.3 9.45l-7.72 7.72c-.78.78-.78 2.05 0 2.83L4 21.41c.39.39.9.59 1.41.59.51 0 1.02-.2 1.41-.59l7.78-7.78 2.81-2.81c.8-.78.8-2.07 0-2.86zM5.41 20L4 18.59l7.72-7.72 1.47 1.35L5.41 20z\"/>\n",
              "  </svg>\n",
              "      </button>\n",
              "      \n",
              "  <style>\n",
              "    .colab-df-container {\n",
              "      display:flex;\n",
              "      flex-wrap:wrap;\n",
              "      gap: 12px;\n",
              "    }\n",
              "\n",
              "    .colab-df-convert {\n",
              "      background-color: #E8F0FE;\n",
              "      border: none;\n",
              "      border-radius: 50%;\n",
              "      cursor: pointer;\n",
              "      display: none;\n",
              "      fill: #1967D2;\n",
              "      height: 32px;\n",
              "      padding: 0 0 0 0;\n",
              "      width: 32px;\n",
              "    }\n",
              "\n",
              "    .colab-df-convert:hover {\n",
              "      background-color: #E2EBFA;\n",
              "      box-shadow: 0px 1px 2px rgba(60, 64, 67, 0.3), 0px 1px 3px 1px rgba(60, 64, 67, 0.15);\n",
              "      fill: #174EA6;\n",
              "    }\n",
              "\n",
              "    [theme=dark] .colab-df-convert {\n",
              "      background-color: #3B4455;\n",
              "      fill: #D2E3FC;\n",
              "    }\n",
              "\n",
              "    [theme=dark] .colab-df-convert:hover {\n",
              "      background-color: #434B5C;\n",
              "      box-shadow: 0px 1px 3px 1px rgba(0, 0, 0, 0.15);\n",
              "      filter: drop-shadow(0px 1px 2px rgba(0, 0, 0, 0.3));\n",
              "      fill: #FFFFFF;\n",
              "    }\n",
              "  </style>\n",
              "\n",
              "      <script>\n",
              "        const buttonEl =\n",
              "          document.querySelector('#df-1eb6d7e7-b5c7-405f-a199-a5f15f6b8fc9 button.colab-df-convert');\n",
              "        buttonEl.style.display =\n",
              "          google.colab.kernel.accessAllowed ? 'block' : 'none';\n",
              "\n",
              "        async function convertToInteractive(key) {\n",
              "          const element = document.querySelector('#df-1eb6d7e7-b5c7-405f-a199-a5f15f6b8fc9');\n",
              "          const dataTable =\n",
              "            await google.colab.kernel.invokeFunction('convertToInteractive',\n",
              "                                                     [key], {});\n",
              "          if (!dataTable) return;\n",
              "\n",
              "          const docLinkHtml = 'Like what you see? Visit the ' +\n",
              "            '<a target=\"_blank\" href=https://colab.research.google.com/notebooks/data_table.ipynb>data table notebook</a>'\n",
              "            + ' to learn more about interactive tables.';\n",
              "          element.innerHTML = '';\n",
              "          dataTable['output_type'] = 'display_data';\n",
              "          await google.colab.output.renderOutput(dataTable, element);\n",
              "          const docLink = document.createElement('div');\n",
              "          docLink.innerHTML = docLinkHtml;\n",
              "          element.appendChild(docLink);\n",
              "        }\n",
              "      </script>\n",
              "    </div>\n",
              "  </div>\n",
              "  "
            ]
          },
          "metadata": {},
          "execution_count": 14
        }
      ],
      "source": [
        "col_filt=[]\n",
        "for keys in feat_sort[2:]:\n",
        "    col_filt.append(keys[0])\n",
        "#Will use these filtered features for train, test, validation split\n",
        "X_full[col_filt].head()"
      ]
    },
    {
      "cell_type": "markdown",
      "id": "813a303d",
      "metadata": {
        "id": "813a303d"
      },
      "source": [
        "It's also worth taking a further look into read length to see if we can see why it is harder to predict"
      ]
    },
    {
      "cell_type": "code",
      "execution_count": 15,
      "id": "29e45b8a",
      "metadata": {
        "id": "29e45b8a",
        "outputId": "9bd132aa-7c95-4210-8cf4-a9a8f2fe5225",
        "colab": {
          "base_uri": "https://localhost:8080/",
          "height": 295
        }
      },
      "outputs": [
        {
          "output_type": "display_data",
          "data": {
            "text/plain": [
              "<Figure size 432x288 with 1 Axes>"
            ],
            "image/png": "[encoded data removed]"
          },
          "metadata": {
            "needs_background": "light"
          }
        }
      ],
      "source": [
        "# your turn\n",
        "plt.hist(y.iloc[1])\n",
        "plt.title(\"Read length\")\n",
        "plt.xlabel(\"Read length\")\n",
        "plt.ylabel(\"Frequency\")\n",
        "plt.show()"
      ]
    },
    {
      "cell_type": "markdown",
      "id": "b942bf2d",
      "metadata": {
        "id": "b942bf2d"
      },
      "source": [
        "It appears that read length has an \"all or nothing\" pattern to it such that it is hard to predict from our features when a run can completely fail and produce poor read length. We will keep this in mind as we optimize the model and we may need to accept higher error due to this target. "
      ]
    },
    {
      "cell_type": "markdown",
      "source": [
        "We can try training a model for read length only"
      ],
      "metadata": {
        "id": "lVztYOL5O3jO"
      },
      "id": "lVztYOL5O3jO"
    },
    {
      "cell_type": "code",
      "execution_count": 49,
      "id": "sihueqgTzKjM",
      "metadata": {
        "id": "sihueqgTzKjM",
        "colab": {
          "base_uri": "https://localhost:8080/"
        },
        "outputId": "1a670afb-078a-439d-a982-784d423d57be"
      },
      "outputs": [
        {
          "output_type": "stream",
          "name": "stdout",
          "text": [
            "0.16806810740013126\n",
            "MSE: 0.00023915633312803086\n",
            "0.9504995893379667\n"
          ]
        }
      ],
      "source": [
        "rfr2=RandomForestRegressor(n_estimators=150, min_samples_leaf=1, min_samples_split=2)\n",
        "# fit model\n",
        "rfr2.fit(x_train, y_train.iloc[:,1])\n",
        "y_pred = rfr2.predict(x_val)\n",
        "# summarize prediction\n",
        "print(y_pred[0])\n",
        "print('MSE: {}'.format(mean_squared_error(y_val.iloc[:,1], y_pred)))\n",
        "print(rfr2.score(x_val, y_val.iloc[:,1]))"
      ]
    },
    {
      "cell_type": "code",
      "source": [
        "feats = {} # a dict to hold feature_name: feature_importance\n",
        "for feature, importance in zip(x_train.columns, rfr2.feature_importances_):\n",
        "    feats[feature] = importance \n",
        "feat_filter={}\n",
        "for (key, value) in feats.items():\n",
        "    if value > 6.0253533696158045e-06: #removed anything with lower importance than a specific run date\n",
        "        feat_filter[key]=value\n",
        "feat_sort = sorted(feat_filter.items(), key=lambda x: x[1], reverse=True)"
      ],
      "metadata": {
        "id": "P2_z-HtLUhaO"
      },
      "id": "P2_z-HtLUhaO",
      "execution_count": 50,
      "outputs": []
    },
    {
      "cell_type": "code",
      "source": [
        "print('5 most important features ranked')\n",
        "for i in range(5): \n",
        "    print('{}: {}'.format(feat_sort[i][0],feat_sort[i][1]))"
      ],
      "metadata": {
        "colab": {
          "base_uri": "https://localhost:8080/"
        },
        "id": "QM2ClcUUWFeo",
        "outputId": "1a656e01-c3d8-452a-a65e-fa625b38bb28"
      },
      "id": "QM2ClcUUWFeo",
      "execution_count": 51,
      "outputs": [
        {
          "output_type": "stream",
          "name": "stdout",
          "text": [
            "5 most important features ranked\n",
            "Mode Mt Base Call Read Length Qc Mt: 0.5018048895249044\n",
            "Avg Num Align Hqmt Per Good Cell: 0.0914093923098224\n",
            "Align Std Called Homopolymer 5 T: 0.04446171782779668\n",
            "Avg Num Potential Blockages Per Cell: 0.03917336922383829\n",
            "Percentile75 Mt Base Call Read Length: 0.0370690684792154\n"
          ]
        }
      ]
    },
    {
      "cell_type": "markdown",
      "id": "fd890533",
      "metadata": {
        "id": "fd890533"
      },
      "source": [
        "## **Prototype Development**\n",
        "\n",
        "Having refined the dataset more, we can now formally split our data to train, test, and validation data. We will also try to refine our model more now that we have removed some features. We expect some drop in accuracy. We can also try modeling for read length separately if necessary."
      ]
    },
    {
      "cell_type": "code",
      "source": [
        "x_filt=X_full[col_filt].drop(columns=['Mode Mt Base Call Read Length Qc Mt'])"
      ],
      "metadata": {
        "id": "f-0ijOb8ti-Y"
      },
      "id": "f-0ijOb8ti-Y",
      "execution_count": 53,
      "outputs": []
    },
    {
      "cell_type": "code",
      "execution_count": 54,
      "id": "543aaf79",
      "metadata": {
        "id": "543aaf79",
        "colab": {
          "base_uri": "https://localhost:8080/",
          "height": 17
        },
        "outputId": "044f989d-e342-4bb6-e713-0b41b8031312"
      },
      "outputs": [
        {
          "output_type": "display_data",
          "data": {
            "text/plain": [
              "<IPython.core.display.Javascript object>"
            ],
            "application/javascript": [
              "\n",
              "    async function download(id, filename, size) {\n",
              "      if (!google.colab.kernel.accessAllowed) {\n",
              "        return;\n",
              "      }\n",
              "      const div = document.createElement('div');\n",
              "      const label = document.createElement('label');\n",
              "      label.textContent = `Downloading \"${filename}\": `;\n",
              "      div.appendChild(label);\n",
              "      const progress = document.createElement('progress');\n",
              "      progress.max = size;\n",
              "      div.appendChild(progress);\n",
              "      document.body.appendChild(div);\n",
              "\n",
              "      const buffers = [];\n",
              "      let downloaded = 0;\n",
              "\n",
              "      const channel = await google.colab.kernel.comms.open(id);\n",
              "      // Send a message to notify the kernel that we're ready.\n",
              "      channel.send({})\n",
              "\n",
              "      for await (const message of channel.messages) {\n",
              "        // Send a message to notify the kernel that we're ready.\n",
              "        channel.send({})\n",
              "        if (message.buffers) {\n",
              "          for (const buffer of message.buffers) {\n",
              "            buffers.push(buffer);\n",
              "            downloaded += buffer.byteLength;\n",
              "            progress.value = downloaded;\n",
              "          }\n",
              "        }\n",
              "      }\n",
              "      const blob = new Blob(buffers, {type: 'application/binary'});\n",
              "      const a = document.createElement('a');\n",
              "      a.href = window.URL.createObjectURL(blob);\n",
              "      a.download = filename;\n",
              "      div.appendChild(a);\n",
              "      a.click();\n",
              "      div.remove();\n",
              "    }\n",
              "  "
            ]
          },
          "metadata": {}
        },
        {
          "output_type": "display_data",
          "data": {
            "text/plain": [
              "<IPython.core.display.Javascript object>"
            ],
            "application/javascript": [
              "download(\"download_73711c87-9556-49dc-900e-b29b242a28a4\", \"X_seq_filt.csv\", 16346198)"
            ]
          },
          "metadata": {}
        }
      ],
      "source": [
        "x_filt.to_csv('X_seq_filt.csv')\n",
        "files.download('X_seq_filt.csv')"
      ]
    },
    {
      "cell_type": "code",
      "execution_count": 61,
      "id": "bb104608",
      "metadata": {
        "id": "bb104608"
      },
      "outputs": [],
      "source": [
        "x_train, x_temp, y_train, y_temp = train_test_split(x_filt, y, test_size=0.4, random_state=0)\n",
        "x_val, x_test, y_val, y_test = train_test_split(x_temp, y_temp, test_size=0.5, random_state=0)\n"
      ]
    },
    {
      "cell_type": "code",
      "execution_count": 62,
      "id": "707193e5",
      "metadata": {
        "colab": {
          "base_uri": "https://localhost:8080/"
        },
        "id": "707193e5",
        "outputId": "452c95cc-2873-46ac-a04e-00cd79a1e31a"
      },
      "outputs": [
        {
          "output_type": "stream",
          "name": "stdout",
          "text": [
            "(5839, 205)\n",
            "(3503, 205)\n",
            "(1168, 205)\n",
            "(1168, 205)\n"
          ]
        }
      ],
      "source": [
        "print(np.shape(x_filt))\n",
        "print(np.shape(x_train))\n",
        "print(np.shape(x_val))\n",
        "print(np.shape(x_test))"
      ]
    },
    {
      "cell_type": "code",
      "execution_count": 58,
      "id": "71372d2b",
      "metadata": {
        "id": "71372d2b"
      },
      "outputs": [],
      "source": [
        "#prototype selection using 100 random features\n",
        "x_proto, idx=rand_prototypes(100, x_train, x_train.columns)"
      ]
    },
    {
      "cell_type": "markdown",
      "source": [
        "We use a subsampled dataset to speed up our grid search cross validation and use a successful model from our previous model exploration, random forest regressor. Conceptually, this makes sense for our nonlinear data with may have a very all-or-nothing nature to our targets, namely read length. We can also try modeling for read length only to try to hone in on key features that affect read length in particular."
      ],
      "metadata": {
        "id": "yh9CJDqwL33M"
      },
      "id": "yh9CJDqwL33M"
    },
    {
      "cell_type": "code",
      "execution_count": 59,
      "id": "03e11fb5",
      "metadata": {
        "id": "03e11fb5"
      },
      "outputs": [],
      "source": [
        "params =  {'n_estimators':[10, 50 , 100, 150], 'min_samples_split':[2 ,5, 10], 'min_samples_leaf':[1,3, 5]}\n",
        "clf = GridSearchCV(RandomForestRegressor(), params, cv=5)\n",
        "rfc = clf.fit(x_proto,y_train)\n"
      ]
    },
    {
      "cell_type": "code",
      "execution_count": 63,
      "id": "f4c37ae2",
      "metadata": {
        "colab": {
          "base_uri": "https://localhost:8080/"
        },
        "id": "f4c37ae2",
        "outputId": "2440246a-cf31-4c56-e5be-62bf23fdd986"
      },
      "outputs": [
        {
          "output_type": "stream",
          "name": "stdout",
          "text": [
            "best params: {'min_samples_leaf': 1, 'min_samples_split': 2, 'n_estimators': 100}\n",
            "Num Align Hqmt r2 score: 0.9959987309785481\n",
            "Mode Mt Base Call Read Length Align Hqmt r2 score: 0.9285801994410088\n",
            "Avg Mt Align Edit Percent Identical r2 score: 0.9711509313580077\n",
            "Average score: 0.9652432872591882\n"
          ]
        }
      ],
      "source": [
        "print(\"best params:\", rfc.best_params_)\n",
        "y_pred = rfc.predict(x_val.iloc[:,idx])\n",
        "r2avg=[]\n",
        "for i in range(len(y_val.columns)):\n",
        "  r2_i=r2_score(y_val.iloc[:,i], y_pred[:,i])\n",
        "  print(\"{} r2 score: {}\".format(y_val.columns[i],r2_i))\n",
        "  r2avg.append(r2_i)\n",
        "print('Average score: {}'.format(np.average(r2avg)))"
      ]
    },
    {
      "cell_type": "code",
      "execution_count": 64,
      "id": "wh-422JNI7A6",
      "metadata": {
        "colab": {
          "base_uri": "https://localhost:8080/"
        },
        "id": "wh-422JNI7A6",
        "outputId": "8799c2b4-e43b-431b-b53c-b0b25d9277c5"
      },
      "outputs": [
        {
          "output_type": "stream",
          "name": "stdout",
          "text": [
            "[0.04873085 0.16687623 0.90413989]\n",
            "MSE: 0.0005358985671333505\n",
            "0.9393140676091617\n"
          ]
        }
      ],
      "source": [
        "rfr=RandomForestRegressor(n_estimators=150, min_samples_leaf=1, min_samples_split=2)\n",
        "# fit model\n",
        "rfr.fit(x_train, y_train)\n",
        "y_pred = rfr.predict(x_val)\n",
        "# summarize prediction\n",
        "print(y_pred[0])\n",
        "print('MSE: {}'.format(mean_squared_error(y_val, y_pred)))\n",
        "print(rfr.score(x_val, y_val))"
      ]
    },
    {
      "cell_type": "markdown",
      "source": [
        "Check against the test set"
      ],
      "metadata": {
        "id": "8DVGEAJI2kz4"
      },
      "id": "8DVGEAJI2kz4"
    },
    {
      "cell_type": "code",
      "source": [
        "y_pred = rfr.predict(x_test)\n",
        "# summarize prediction\n",
        "print(y_pred[0])\n",
        "print('MSE: {}'.format(mean_squared_error(y_test, y_pred)))\n",
        "print(rfr.score(x_test, y_test))"
      ],
      "metadata": {
        "colab": {
          "base_uri": "https://localhost:8080/"
        },
        "id": "koCVtbZLz0dz",
        "outputId": "1a84b390-4c8c-4d7b-e84c-7c4549e375d5"
      },
      "id": "koCVtbZLz0dz",
      "execution_count": 69,
      "outputs": [
        {
          "output_type": "stream",
          "name": "stdout",
          "text": [
            "[0.40201321 0.23628465 0.94391332]\n",
            "MSE: 0.0009570353444658983\n",
            "0.8862748749968562\n"
          ]
        }
      ]
    },
    {
      "cell_type": "code",
      "source": [
        "import pickle\n",
        "# save the model to disk\n",
        "filename = 'finalized_seq_model.sav'\n",
        "pickle.dump(rfr, open(filename, 'wb'))"
      ],
      "metadata": {
        "id": "GabzYWk72vG2"
      },
      "id": "GabzYWk72vG2",
      "execution_count": 70,
      "outputs": []
    },
    {
      "cell_type": "code",
      "source": [
        "files.download('finalized_seq_model.sav')"
      ],
      "metadata": {
        "colab": {
          "base_uri": "https://localhost:8080/",
          "height": 17
        },
        "id": "IRajCd7030pY",
        "outputId": "dcfd8c83-5479-4215-aaf6-a82e3a67eca2"
      },
      "id": "IRajCd7030pY",
      "execution_count": 71,
      "outputs": [
        {
          "output_type": "display_data",
          "data": {
            "text/plain": [
              "<IPython.core.display.Javascript object>"
            ],
            "application/javascript": [
              "\n",
              "    async function download(id, filename, size) {\n",
              "      if (!google.colab.kernel.accessAllowed) {\n",
              "        return;\n",
              "      }\n",
              "      const div = document.createElement('div');\n",
              "      const label = document.createElement('label');\n",
              "      label.textContent = `Downloading \"${filename}\": `;\n",
              "      div.appendChild(label);\n",
              "      const progress = document.createElement('progress');\n",
              "      progress.max = size;\n",
              "      div.appendChild(progress);\n",
              "      document.body.appendChild(div);\n",
              "\n",
              "      const buffers = [];\n",
              "      let downloaded = 0;\n",
              "\n",
              "      const channel = await google.colab.kernel.comms.open(id);\n",
              "      // Send a message to notify the kernel that we're ready.\n",
              "      channel.send({})\n",
              "\n",
              "      for await (const message of channel.messages) {\n",
              "        // Send a message to notify the kernel that we're ready.\n",
              "        channel.send({})\n",
              "        if (message.buffers) {\n",
              "          for (const buffer of message.buffers) {\n",
              "            buffers.push(buffer);\n",
              "            downloaded += buffer.byteLength;\n",
              "            progress.value = downloaded;\n",
              "          }\n",
              "        }\n",
              "      }\n",
              "      const blob = new Blob(buffers, {type: 'application/binary'});\n",
              "      const a = document.createElement('a');\n",
              "      a.href = window.URL.createObjectURL(blob);\n",
              "      a.download = filename;\n",
              "      div.appendChild(a);\n",
              "      a.click();\n",
              "      div.remove();\n",
              "    }\n",
              "  "
            ]
          },
          "metadata": {}
        },
        {
          "output_type": "display_data",
          "data": {
            "text/plain": [
              "<IPython.core.display.Javascript object>"
            ],
            "application/javascript": [
              "download(\"download_b56a81f0-5b68-4cbc-b2a0-1c572f354641\", \"finalized_seq_model.sav\", 41273132)"
            ]
          },
          "metadata": {}
        }
      ]
    }
  ],
  "metadata": {
    "colab": {
      "collapsed_sections": [],
      "name": "capstone_project_prototype.ipynb",
      "provenance": []
    },
    "kernelspec": {
      "display_name": "Python 3 (ipykernel)",
      "language": "python",
      "name": "python3"
    },
    "language_info": {
      "codemirror_mode": {
        "name": "ipython",
        "version": 3
      },
      "file_extension": ".py",
      "mimetype": "text/x-python",
      "name": "python",
      "nbconvert_exporter": "python",
      "pygments_lexer": "ipython3",
      "version": "3.9.7"
    }
  },
  "nbformat": 4,
  "nbformat_minor": 5
}